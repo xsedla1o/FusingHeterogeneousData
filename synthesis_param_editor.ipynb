{
 "cells": [
  {
   "cell_type": "code",
   "execution_count": null,
   "metadata": {
    "collapsed": true,
    "pycharm": {
     "name": "#%%\n"
    }
   },
   "outputs": [],
   "source": [
    "import numpy as np\n",
    "\n",
    "from synth_config_generator import (ConfigGenerator, get_uniform_module_distribution, add_confusion, add_split,\n",
    "                                    get_variable_module_distribution)\n"
   ]
  },
  {
   "cell_type": "code",
   "execution_count": null,
   "outputs": [],
   "source": [
    "os_labels = [\n",
    "    'OperatingSystem.Windows',\n",
    "    'OperatingSystem.Linux',\n",
    "    'OperatingSystem.MacOS',\n",
    "    'OperatingSystem.iOS',\n",
    "    'OperatingSystem.Android',\n",
    "]\n",
    "\n",
    "module_names = [x for x in \"abcdefghi\"]"
   ],
   "metadata": {
    "collapsed": false,
    "pycharm": {
     "name": "#%%\n"
    }
   }
  },
  {
   "cell_type": "code",
   "execution_count": null,
   "outputs": [],
   "source": [
    "gen = ConfigGenerator(base_dir=\"config/synthesis/full_synth_base\",\n",
    "                      output_dir=\"config/synthesis\",\n",
    "                      module_names_=module_names,\n",
    "                      os_labels_=os_labels)"
   ],
   "metadata": {
    "collapsed": false,
    "pycharm": {
     "name": "#%%\n"
    }
   }
  },
  {
   "cell_type": "code",
   "execution_count": null,
   "outputs": [],
   "source": [
    "for n in [0.6, 0.7, 0.8, 0.9]:\n",
    "    acc_id = f\"{int(n * 100)}\"\n",
    "    gen.generate_config(f\"uni_{acc_id}\",\n",
    "                        lambda: get_uniform_module_distribution(os_labels, n))\n",
    "\n",
    "    for split_cnt in [1, 3]:\n",
    "        gen.generate_config(f\"split_{split_cnt}x3_{acc_id}\",\n",
    "                            lambda: add_split(get_uniform_module_distribution(os_labels, n), split_cnt, 3))\n",
    "\n",
    "    for module_cnt in range(3, len(module_names) + 1, 2):\n",
    "        for os_cnt in range(2, len(os_labels) + 1, 1):\n",
    "            gen.generate_config(f\"{os_cnt}c_{module_cnt}am_uni_{acc_id}\",\n",
    "                                lambda: get_uniform_module_distribution(os_labels[:os_cnt], n),\n",
    "                                active_modules_cnt=module_cnt,\n",
    "                                overlap_mean=module_cnt - 1,\n",
    "                                class_cnt=os_cnt)"
   ],
   "metadata": {
    "collapsed": false,
    "pycharm": {
     "name": "#%%\n"
    }
   }
  },
  {
   "cell_type": "code",
   "execution_count": null,
   "outputs": [],
   "source": [
    "for module_cnt in range(3, len(module_names) + 1, 2):\n",
    "    for os_cnt in range(2, len(os_labels) + 1, 1):\n",
    "        gen.generate_config(f\"{os_cnt}c_{module_cnt}am_variable\",\n",
    "                            lambda: get_variable_module_distribution(os_labels[:os_cnt], 1 / os_cnt, 0.9),\n",
    "                            active_modules_cnt=module_cnt,\n",
    "                            overlap_mean=module_cnt - 1,\n",
    "                            class_cnt=os_cnt)"
   ],
   "metadata": {
    "collapsed": false,
    "pycharm": {
     "name": "#%%\n"
    }
   }
  },
  {
   "cell_type": "code",
   "execution_count": null,
   "outputs": [],
   "source": [
    "n = 0.7\n",
    "acc_id = f\"{int(n * 100)}\"\n",
    "for module_cnt in range(3, len(module_names) + 1, 2):\n",
    "    for split_cnt in range(1, 4, 2):\n",
    "        for split_size in range(2, 4):\n",
    "            gen.generate_config(f\"{module_cnt}am_split_{split_cnt}x{split_size}_{acc_id}\",\n",
    "                                lambda: add_split(get_uniform_module_distribution(os_labels, n), split_cnt,\n",
    "                                                  split_size),\n",
    "                                active_modules_cnt=module_cnt,\n",
    "                                overlap_mean=module_cnt - 1)\n",
    "\n",
    "    for conf_cnt in range(1, 4, 2):\n",
    "        for conf_size in range(2, 4):\n",
    "            gen.generate_config(f\"{module_cnt}am_confused_{conf_cnt}x{conf_size}_{acc_id}\",\n",
    "                                lambda: add_confusion(get_uniform_module_distribution(os_labels, n), conf_cnt,\n",
    "                                                      conf_size),\n",
    "                                active_modules_cnt=module_cnt,\n",
    "                                overlap_mean=module_cnt - 1)\n"
   ],
   "metadata": {
    "collapsed": false,
    "pycharm": {
     "name": "#%%\n"
    }
   }
  },
  {
   "cell_type": "code",
   "execution_count": null,
   "outputs": [],
   "source": [
    "for i in range(20):\n",
    "    module_cnt = np.random.randint(3, 10)\n",
    "    class_cnt = np.random.randint(2, 6)\n",
    "    print(module_cnt, class_cnt)\n",
    "    generators = []\n",
    "    for j in range(class_cnt):\n",
    "        dist = np.random.choice(['variable', 'uniform', 'chaos'], p=[0.34, 0.33, 0.33])\n",
    "        if dist == 'variable':\n",
    "            generators.append(lambda: get_variable_module_distribution(os_labels[:class_cnt], 1 / class_cnt, 0.9))\n",
    "            print(dist)\n",
    "        else:\n",
    "            acc = np.random.randint(100 / class_cnt, 95) / 100\n",
    "            generators.append(lambda: get_uniform_module_distribution(os_labels[:class_cnt], acc))\n",
    "            if dist == 'chaos':\n",
    "                chaos_size = np.random.randint(2, class_cnt) if class_cnt != 2 else class_cnt\n",
    "                chaos_count = np.random.randint(1, class_cnt)\n",
    "                chaos_kind = np.random.choice([add_confusion, add_split])\n",
    "                generators.append(lambda: chaos_kind(get_uniform_module_distribution(os_labels[:class_cnt], acc), chaos_count, chaos_size))\n",
    "                print(dist, acc, chaos_kind, chaos_count, chaos_size)\n",
    "            else:\n",
    "                print(dist, acc)\n",
    "    print()\n",
    "\n",
    "    gen.generate_config(f\"random_{i}\",\n",
    "                        generators,\n",
    "                        active_modules_cnt=module_cnt,\n",
    "                        overlap_mean=module_cnt - 1,\n",
    "                        class_cnt=class_cnt)\n"
   ],
   "metadata": {
    "collapsed": false,
    "pycharm": {
     "name": "#%%\n"
    }
   }
  }
 ],
 "metadata": {
  "kernelspec": {
   "display_name": "Python 3",
   "language": "python",
   "name": "python3"
  },
  "language_info": {
   "codemirror_mode": {
    "name": "ipython",
    "version": 2
   },
   "file_extension": ".py",
   "mimetype": "text/x-python",
   "name": "python",
   "nbconvert_exporter": "python",
   "pygments_lexer": "ipython2",
   "version": "2.7.6"
  }
 },
 "nbformat": 4,
 "nbformat_minor": 0
}