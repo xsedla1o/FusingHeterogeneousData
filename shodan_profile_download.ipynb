{
 "cells": [
  {
   "cell_type": "markdown",
   "metadata": {
    "pycharm": {
     "name": "#%% md\n"
    }
   },
   "source": [
    "# Shodan reference data download\n",
    "\n",
    "This notebook contains the implementation of downloading reference data from shodan."
   ]
  },
  {
   "cell_type": "code",
   "execution_count": null,
   "metadata": {
    "pycharm": {
     "name": "#%%\n"
    }
   },
   "outputs": [],
   "source": [
    "from shodan import Shodan, APIError\n",
    "import json\n",
    "from tqdm import notebook\n",
    "import pandas as pd"
   ]
  },
  {
   "cell_type": "code",
   "execution_count": 1,
   "metadata": {
    "pycharm": {
     "name": "#%%\n"
    }
   },
   "outputs": [],
   "source": [
    "source_shodan_profiles_path = 'data/source/shodan_profiles.json'\n",
    "output_extracted_oses_path = 'data/source/shodan_os_extracted.csv'\n",
    "shodan_api_key = 'YOUR_API_KEY'"
   ]
  },
  {
   "cell_type": "code",
   "execution_count": null,
   "metadata": {
    "pycharm": {
     "name": "#%%\n"
    }
   },
   "outputs": [],
   "source": [
    "with open(source_shodan_profiles_path, 'r') as f:\n",
    "    profiles = json.load(f)"
   ]
  },
  {
   "cell_type": "code",
   "execution_count": null,
   "metadata": {
    "pycharm": {
     "name": "#%%\n"
    }
   },
   "outputs": [],
   "source": [
    "api = Shodan(shodan_api_key)"
   ]
  },
  {
   "cell_type": "code",
   "execution_count": null,
   "metadata": {
    "pycharm": {
     "name": "#%%\n"
    }
   },
   "outputs": [],
   "source": [
    "for ip, profile in notebook.tqdm(profiles.items()):\n",
    "    if profile == {}:\n",
    "        try:\n",
    "            info = api.host(ip)\n",
    "            profiles[ip] = info\n",
    "        except APIError as e:\n",
    "            profiles[ip] = {\"os\": None}\n",
    "            continue"
   ]
  },
  {
   "cell_type": "code",
   "execution_count": null,
   "metadata": {
    "pycharm": {
     "name": "#%%\n"
    }
   },
   "outputs": [],
   "source": [
    "with open(source_shodan_profiles_path, 'w') as f:\n",
    "    json.dump(profiles, f, indent=2)"
   ]
  },
  {
   "cell_type": "code",
   "execution_count": null,
   "metadata": {
    "pycharm": {
     "name": "#%%\n"
    }
   },
   "outputs": [],
   "source": [
    "filled = [ip for ip, profile in profiles.items() if profile != {}]\n",
    "len(filled)"
   ]
  },
  {
   "cell_type": "code",
   "execution_count": null,
   "metadata": {
    "pycharm": {
     "name": "#%%\n"
    }
   },
   "outputs": [],
   "source": [
    "unfilled = [ip for ip, profile in profiles.items() if profile == {}]\n",
    "len(unfilled)"
   ]
  },
  {
   "cell_type": "code",
   "execution_count": null,
   "metadata": {
    "pycharm": {
     "name": "#%%\n"
    }
   },
   "outputs": [],
   "source": [
    "have_info = [ip for ip, profile in profiles.items() if profile != {\"os\": None}]\n",
    "len(have_info)"
   ]
  },
  {
   "cell_type": "code",
   "execution_count": null,
   "metadata": {
    "pycharm": {
     "name": "#%%\n"
    }
   },
   "outputs": [],
   "source": [
    "have_os_info = [ip for ip in have_info if profiles[ip][\"os\"] is not None]\n",
    "len(have_os_info)"
   ]
  },
  {
   "cell_type": "code",
   "execution_count": null,
   "metadata": {
    "pycharm": {
     "name": "#%%\n"
    }
   },
   "outputs": [],
   "source": [
    "def get_os_entries(ip_profile, path = None, verbose = False):\n",
    "    path = [] if path is None else path\n",
    "    entries = []\n",
    "    for key, item in ip_profile.items():\n",
    "        path.append(key)\n",
    "        if key == 'os' and item is not None:\n",
    "            if verbose:\n",
    "                print(path, key, item)\n",
    "            entries.append(item)\n",
    "        if isinstance(item, list):\n",
    "            for i, data_item in enumerate(item):\n",
    "                if isinstance(data_item, dict):\n",
    "                    path.append(i)\n",
    "                    entry = get_os_entries(data_item, path)\n",
    "                    if entry:\n",
    "                        entries.extend(entry)\n",
    "                    path.pop()\n",
    "        if isinstance(item, dict):\n",
    "            entry = get_os_entries(item, path)\n",
    "            if entry:\n",
    "                entries.extend(entry)\n",
    "    return entries\n",
    "\n",
    "def find_common_substring(strings: list):\n",
    "    longest_substring = None\n",
    "    for string in strings:\n",
    "        if longest_substring is None:\n",
    "            longest_substring = string\n",
    "            continue\n",
    "        while longest_substring not in string:\n",
    "            longest_substring = longest_substring[:-1]\n",
    "    return longest_substring\n",
    "\n",
    "\n",
    "extracted_os_infos = {}\n",
    "for ip in have_info:\n",
    "    entries = get_os_entries(profiles[ip])\n",
    "    if entries:\n",
    "        if all(isinstance(item, (str, list)) for item in entries):\n",
    "            flattened = []\n",
    "            for item in entries:\n",
    "                if isinstance(item, list):\n",
    "                    flattened.extend(item)\n",
    "                else:\n",
    "                    flattened.append(item)\n",
    "            entries = list(set(flattened))\n",
    "            if len(entries) == 1:\n",
    "                extracted_os_infos[ip] = entries[0]\n",
    "            else:\n",
    "                if find_common_substring(entries):\n",
    "                    extracted_os_infos[ip] = find_common_substring(entries).strip()\n",
    "extracted_os_infos"
   ]
  },
  {
   "cell_type": "code",
   "execution_count": null,
   "metadata": {
    "pycharm": {
     "name": "#%%\n"
    }
   },
   "outputs": [],
   "source": [
    "pd.DataFrame(extracted_os_infos, index=['os']).T.to_csv(output_extracted_oses_path)"
   ]
  }
 ],
 "metadata": {
  "kernelspec": {
   "display_name": "Python 3 (ipykernel)",
   "language": "python",
   "name": "python3"
  },
  "language_info": {
   "codemirror_mode": {
    "name": "ipython",
    "version": 3
   },
   "file_extension": ".py",
   "mimetype": "text/x-python",
   "name": "python",
   "nbconvert_exporter": "python",
   "pygments_lexer": "ipython3",
   "version": "3.8.10"
  }
 },
 "nbformat": 4,
 "nbformat_minor": 1
}